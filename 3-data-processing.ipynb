{
 "cells": [
  {
   "cell_type": "markdown",
   "metadata": {
    "id": "c4DmlrH60_Yq"
   },
   "source": [
    "<div width=50% style=\"display: block; margin: auto\">\n",
    "    <img src=\"figures/ucl-logo.svg\" width=100%>\n",
    "</div>\n",
    "\n",
    "### [UCL-ELEC0136 Data Acquisition and Processing Systems 2024]()\n",
    "University College London\n",
    "# Lab 3: Data Processing #1\n"
   ]
  },
  {
   "cell_type": "markdown",
   "metadata": {
    "id": "EBX0v02s1ip6"
   },
   "source": [
    "In this lab, we will use the _open-meteo_ API (https://open-meteo.com/), to acquire historical weather data for London from the past 2 years, inspect it, and prepare it for modelling.\n",
    "\n",
    "### Objectives\n",
    "* Learn to deal with **time series**\n",
    "* Learn to **plot** and represent data\n",
    "* **Normalise** your data\n",
    "* Detect and handle **outliers** in time series\n",
    "\n",
    "### Constraints\n",
    "* You cannot use pre-existing functions to normalise your data or calculate statistics about it.\n",
    "* This includes functions from `scipy`, `pandas` and other statistics library.\n",
    "* This doesn't mean you cannot use `pandas`, but that you cannot use its stats functions (e.g., functions to calculate percentile)\n",
    "* You must you `numpy` only to manipulate your data\n",
    "* All data must be acquired through Python: you cannot download the data by browsing to the website and using the mouse \n",
    "\n",
    "<hr width=70% style=\"float: left\">"
   ]
  },
  {
   "cell_type": "markdown",
   "metadata": {},
   "source": [
    "### TASKS"
   ]
  },
  {
   "cell_type": "markdown",
   "metadata": {},
   "source": [
    "<div class=\"alert alert-block alert-danger\">\n",
    "<h4>👩‍💻👨‍💻 TASK 1: Acquiring data</h4>\n",
    "\n",
    "* Create a function `acquire_data(latitude, longitude, start_date, end_date, features)` that acquires **daily** data for **London** between the **1st January 1950** and the **31st December 1954** (included)\n",
    "* We are interested in the following **features**:\n",
    "  * Mean Temperature (2 m)\n",
    "  * Minimum Temperature (2 m)\n",
    "  * Maximum Temperature (2 m)\n",
    "  * Precipitation Sum\n",
    "</div>"
   ]
  },
  {
   "cell_type": "markdown",
   "metadata": {},
   "source": [
    "<div class=\"alert alert-heading alert-danger\" style=\"background-color: white; border: 2px solid; border-radius: 5px; color: #000; border-color:#AAA; padding: 10px\">\n",
    "    <b>💎 Tip</b>\n",
    "\n",
    "* Use a WEB request to acquire the data (like for lab 1), the API endpoint is https://archive-api.open-meteo.com/v1/archive\n",
    "* Take a look at the open-meteo docs https://open-meteo.com/en/docs/historical-weather-api to see which parameters to use\n",
    "* Always specify a timezone (you can use `timezone=GMT`)\n",
    "\n",
    "</div>\n"
   ]
  },
  {
   "cell_type": "code",
   "execution_count": 3,
   "metadata": {
    "id": "Cx7BliAP2ajI"
   },
   "outputs": [],
   "source": [
    "from typing import List\n",
    "\n",
    "\n",
    "# create a function\n",
    "def acquire_data(latitude: float, longitude: float, start_date: str, end_date: str, features: List[str]) -> dict:\n",
    "    \"\"\"\n",
    "    Acquires data from the Open-meteo API for a given location and time period.\n",
    "    The API endpoint is https://archive-api.open-meteo.com/v1/archive.\n",
    "\n",
    "    Args:\n",
    "        latitude (float): latitude of the location\n",
    "        longitude (float): longitude of the location\n",
    "        start_date (str): start date of the data in the format YYYY-MM-DD\n",
    "        end_date (str): end date of the data in the format YYYY-MM-DD\n",
    "        features (List[str]): list of features to be extracted from the API\n",
    "    Returns:\n",
    "        (dict): dictionary of data\n",
    "    \"\"\"\n",
    "    # add your code here"
   ]
  },
  {
   "cell_type": "markdown",
   "metadata": {},
   "source": [
    "<div class=\"alert alert-block alert-danger\">\n",
    "<h4>👩‍💻👨‍💻 TASK 2: Handling data</h4>\n",
    "\n",
    "* Run the function above to acquire the data\n",
    "* Create a pandas dataframe from the acquired data\n",
    "</div>"
   ]
  },
  {
   "cell_type": "code",
   "execution_count": 4,
   "metadata": {},
   "outputs": [],
   "source": [
    "# add your code here"
   ]
  },
  {
   "cell_type": "markdown",
   "metadata": {},
   "source": [
    "<div class=\"alert alert-block alert-danger\">\n",
    "<h4>👩‍💻👨‍💻 TASK 3: Plot your data</h4>\n",
    "\n",
    "* Create a function `lineplot(x, y, title, x_label, y_label)` that creates a lineplot for the feature named `feature_name` and returns both the `Figure` and the `Axis` objects\n",
    "* The function must return both the matplotlib `figure` object and the `axis` object\n",
    "* Use the function to create two images containing plots of both the temperature and precipitations and save them to disk\n",
    "</div>"
   ]
  },
  {
   "cell_type": "markdown",
   "metadata": {},
   "source": [
    "<div class=\"alert alert-heading alert-danger\" style=\"background-color: white; border: 2px solid; border-radius: 5px; color: #000; border-color:#AAA; padding: 10px\">\n",
    "    <b>💎 Tip</b>\n",
    "\n",
    "* Use `matplotlib` to create the plots\n",
    "* Use the appropriate type of plot for the data that you want to visualise\n",
    "* For example, you can use a lineplot to plot the average temperature\n",
    "* Or, you can use a candlestick plot a shaded areaplot to plot min, max, and average temperature in the same figure\n",
    "\n",
    "</div>\n"
   ]
  },
  {
   "cell_type": "code",
   "execution_count": 5,
   "metadata": {},
   "outputs": [],
   "source": [
    "from numpy.typing import ArrayLike\n",
    "import matplotlib.pyplot as plt\n",
    "\n",
    "\n",
    "def lineplot(x: ArrayLike, y: ArrayLike, title: str, x_label: str, y_label: str) -> (plt.Figure, plt.Axes):\n",
    "    \"\"\"\n",
    "    Creates a line plot for the given data, title and labels.\n",
    "\n",
    "    Args:\n",
    "        x (ArrayLike): value of the data on the x-axis\n",
    "        y (ArrayLike): value of the data on the y-axis\n",
    "        title (str): title of the plot\n",
    "        x_label (str): x-axis label\n",
    "        y_label (str): y-axis label\n",
    "    Returns:\n",
    "        (plt.Figure, plt.Axes): matplotlib figure and axes objects\n",
    "    \"\"\"\n",
    "    # add your code here"
   ]
  },
  {
   "cell_type": "markdown",
   "metadata": {},
   "source": [
    "<div class=\"alert alert-block alert-warning\">\n",
    "<h4>👩‍💻👨‍💻 [Optional] TASK 3.1: multivariate plots</h4>\n",
    "\n",
    "* Create a function `lineplots(x, ys, title, x_label, y_label, legend)` that plot the two variables on the same graph and returns both the `Figure` and the `Axis` objects\n",
    "* Add a legend\n",
    "</div>"
   ]
  },
  {
   "cell_type": "code",
   "execution_count": 6,
   "metadata": {},
   "outputs": [],
   "source": [
    "def lineplots(x: ArrayLike, ys: List[ArrayLike], title: str, x_label: str, y_label: str, legend: List[str]) -> (plt.Figure, plt.Axes):\n",
    "    \"\"\"\n",
    "    Creates a line plot for each list of data in the given list of data, title and labels.\n",
    "\n",
    "    Args:\n",
    "        x (ArrayLike): value of the data on the x-axis\n",
    "        ys (List[ArrayLike]): list of values of the data on the y-axis\n",
    "        title (str): title of the plot\n",
    "        x_label (str): x-axis label\n",
    "        y_label (str): y-axis label\n",
    "        legend (List[str]): list of legend labels\n",
    "    Returns:\n",
    "        (plt.Figure, plt.Axes): matplotlib figure and axes objects\n",
    "    \"\"\"\n",
    "    # add your code here"
   ]
  },
  {
   "cell_type": "markdown",
   "metadata": {},
   "source": [
    "<div class=\"alert alert-block alert-warning\">\n",
    "<h4>👩‍💻👨‍💻 [Optional] TASK 3.2: Plot with additional statistics</h4>\n",
    "\n",
    "* Create a shaded area plot, where the mean temperature is the central line, and the minimum, and the maximum are the lower and upper bounds of the shaded area.\n",
    "* The function should return both the `Figure` and the `Axis` objects\n",
    "* The shaded area must be 0.3 opacity\n",
    "* See https://swdevnotes.com/python/2020/display-line-chart-range/ for an example output\n",
    "</div>"
   ]
  },
  {
   "cell_type": "markdown",
   "metadata": {},
   "source": [
    "<div class=\"alert alert-heading alert-danger\" style=\"background-color: white; border: 2px solid; border-radius: 5px; color: #000; border-color:#AAA; padding: 10px\">\n",
    "    <b>💎 Tip</b>\n",
    "\n",
    "* You can modify existing plots by reusing the `axis`\n",
    "* For example, running `ax.plot` on an axis that already contains another plot, adds a plot on top of it\n",
    "\n",
    "</div>\n"
   ]
  },
  {
   "cell_type": "code",
   "execution_count": 7,
   "metadata": {},
   "outputs": [],
   "source": [
    "# add your code here"
   ]
  },
  {
   "cell_type": "markdown",
   "metadata": {},
   "source": [
    "<div class=\"alert alert-block alert-danger\">\n",
    "<h4>👩‍💻👨‍💻 TASK 4: Normalising your data</h4>\n",
    "\n",
    "* Create a function `minmax_norm(x)` that takes the acquired data, normalises the data using Min-Max normalisation only using `numpy`\n",
    "* The function should returns an array containing the normalised data\n",
    "* Normalise the `temperature_2m_mean` feature\n",
    "* Plot the normalised data over the non-normalised one in the same plot\n",
    "</div>"
   ]
  },
  {
   "cell_type": "code",
   "execution_count": 8,
   "metadata": {},
   "outputs": [],
   "source": [
    "import numpy as np\n",
    "\n",
    "\n",
    "def minmax_norm(x: ArrayLike) -> ArrayLike:\n",
    "    \"\"\"\n",
    "    Normalises the data between 0 and 1 using the min-max normalization.\n",
    "\n",
    "    Args:\n",
    "        x (ArrayLike): data to be normalized\n",
    "    Returns:\n",
    "        (ArrayLike): normalized data\n",
    "    \"\"\"\n",
    "    # add your code here"
   ]
  },
  {
   "cell_type": "markdown",
   "metadata": {},
   "source": [
    "<div class=\"alert alert-block alert-warning\">\n",
    "<h4>👩‍💻👨‍💻 [Optional] TASK 4.1: Z-score normalisation</h4>\n",
    "\n",
    "* Create a function `zscore_norm(x)` that takes a pandas series and normalises it using the z-score.\n",
    "* The function should returns an array containing the normalised data\n",
    "* Normalise the `temperature_2m_mean` feature\n",
    "* Plot the normalised data over the non-normalised one in the same plot\n",
    "</div>"
   ]
  },
  {
   "cell_type": "code",
   "execution_count": 9,
   "metadata": {},
   "outputs": [],
   "source": [
    "def zscore_norm(x: ArrayLike) -> ArrayLike:\n",
    "    \"\"\"\n",
    "    Normalises the data using the z-score normalization.\n",
    "\n",
    "    Args:\n",
    "        x (ArrayLike): data to be normalized\n",
    "    Returns:\n",
    "        (ArrayLike): normalized data\n",
    "    \"\"\"\n",
    "    # add your code here"
   ]
  },
  {
   "cell_type": "markdown",
   "metadata": {},
   "source": [
    "<div class=\"alert alert-block alert-danger\">\n",
    "<h4>👩‍💻👨‍💻 TASK 5: Outliers detection</h4>\n",
    "\n",
    "* Create a function `zscore_outliers(x, threshold=3)` that takes the acquired data, checks if each data point is an outliers by verifying that its z-score is greater than `threshold`\n",
    "* The function must return the index of the outliers\n",
    "* Check for outliers in `temperature_2m_mean`\n",
    "</div>"
   ]
  },
  {
   "cell_type": "code",
   "execution_count": 10,
   "metadata": {},
   "outputs": [],
   "source": [
    "def zscore_outliers(x: ArrayLike, threshold: int=3) -> ArrayLike:\n",
    "    \"\"\"\n",
    "    Detects outliers using the z-score method and returns the indices of the outliers.\n",
    "\n",
    "    Args:\n",
    "        x (ArrayLike): data to be checked for outliers\n",
    "        threshold (int): threshold for the z-score method\n",
    "\n",
    "    Returns:\n",
    "        (ArrayLike): indices of the outliers\n",
    "    \"\"\"\n",
    "    # add your code here"
   ]
  },
  {
   "cell_type": "markdown",
   "metadata": {},
   "source": [
    "<div class=\"alert alert-block alert-warning\">\n",
    "<h4>👩‍💻👨‍💻 [Optional] TASK 5.1: Plotting outliers</h4>\n",
    "\n",
    "* Create a function `mark_outliers(ax, idx)` that marks the outliers with a red dot\n",
    "* The function should return the `Figure` and the `Axis` object containing the plot\n",
    "* Plot the data with the marked outliers\n",
    "</div>"
   ]
  },
  {
   "cell_type": "code",
   "execution_count": 11,
   "metadata": {},
   "outputs": [],
   "source": [
    "def mark_outliers(ax: plt.Axes, x: ArrayLike, y: ArrayLike, outliers_idx: ArrayLike) -> plt.Axes:\n",
    "    \"\"\"\n",
    "    Plots red circles around the outliers in a certain line plot.\n",
    "\n",
    "    Args:\n",
    "        ax (plt.Axis): the older axis to plot on that contains the original line plot\n",
    "        x (ArrayLike): the x-data for the line plot\n",
    "        y (ArrayLike): the y-data for the line plot\n",
    "        outliers_idx (ArrayLike): indices of the outliers\n",
    "    \"\"\"\n",
    "    # add your code here"
   ]
  },
  {
   "cell_type": "markdown",
   "metadata": {},
   "source": [
    "<div class=\"alert alert-block alert-warning\">\n",
    "<h4>👩‍💻👨‍💻 [Optional] TASK 5.3: Detect outliers using the IQR method </h4>\n",
    "\n",
    "* Create a function `iqr_detect(x, threshold=1.5)` that returns the indices of the outliers in the original data according to the **IQR** method\n",
    "* Plot the data with the marked outliers\n",
    "</div>"
   ]
  },
  {
   "cell_type": "markdown",
   "metadata": {},
   "source": [
    "<div class=\"alert alert-heading alert-danger\" style=\"background-color: white; border: 2px solid; border-radius: 5px; color: #000; border-color:#AAA; padding: 10px\">\n",
    "    <b>💎 Tip</b>\n",
    "\n",
    "* You can use `np.quantile` to get the quantile of a uniform, discrete distrbution\n",
    "\n",
    "</div>\n"
   ]
  },
  {
   "cell_type": "code",
   "execution_count": 12,
   "metadata": {},
   "outputs": [],
   "source": [
    "def iqr_detect(x: ArrayLike, threshold: float=1.5) -> ArrayLike:\n",
    "    \"\"\"\n",
    "    Detects outliers using the interquantile range method and returns the indices of the outliers.\n",
    "\n",
    "    Args:\n",
    "        x (ArrayLike): data to be checked for outliers\n",
    "        threshold (float): threshold for the interquantile range method\n",
    "\n",
    "    Returns:\n",
    "        (ArrayLike): indices of the outliers\n",
    "    \"\"\"\n",
    "    # add your code here"
   ]
  },
  {
   "cell_type": "markdown",
   "metadata": {},
   "source": [
    "<div class=\"alert alert-block alert-danger\">\n",
    "<h4>👩‍💻👨‍💻 TASK 6: Clamping outliers</h4>\n",
    "\n",
    "* One way to deal with outliers is to compress them into a range of acceptable values\n",
    "* Create a function `zscore_clamp(x, threshold=3)` that clamps the outliers into the range between 10th percentile and 90th percentile\n",
    "* The function should return a numpy array containing the clamped data\n",
    "* Plot the non-clamped data over the clamped one\n",
    "  \n",
    "</div>"
   ]
  },
  {
   "cell_type": "markdown",
   "metadata": {},
   "source": [
    "<div class=\"alert alert-heading alert-danger\" style=\"background-color: white; border: 2px solid; border-radius: 5px; color: #000; border-color:#AAA; padding: 10px\">\n",
    "    <b>💎 Tip</b>\n",
    "\n",
    "* Not every outlier is bad!! For example in financial problems, such as stock prediction, outliers is **exactly** what you are looking for\n",
    "* **Removing outliers in that case might not benefit our analysis**\n",
    "* Always make an **informed** decision whether to remove outliers and always **justify** it\n",
    "\n",
    "</div>\n"
   ]
  },
  {
   "cell_type": "code",
   "execution_count": 13,
   "metadata": {},
   "outputs": [],
   "source": [
    "def zscore_clamp(x: ArrayLike, threshold: int=3) -> ArrayLike:\n",
    "    \"\"\"\n",
    "    Clamps outliers using the z-score method and returns the clamped data.\n",
    "\n",
    "    Args:\n",
    "        x (ArrayLike): data to be clamped\n",
    "        threshold (int): threshold for the z-score method\n",
    "\n",
    "    Returns:\n",
    "        (ArrayLike): clamped data\n",
    "    \"\"\"\n",
    "    # add your code here"
   ]
  },
  {
   "cell_type": "markdown",
   "metadata": {},
   "source": [
    "<div class=\"alert alert-block alert-warning\">\n",
    "<h4>👩‍💻👨‍💻 [Optional] TASK 6.1: Replace outliers by n-degree interpolation </h4>\n",
    "\n",
    "* Create a function `zscore_interp(x, time, threshold=3, deg=3)` that replaces the z-score outliers with values from a polynomial fit on clean data\n",
    "* The function should return a numpy array containing the interpolated data\n",
    "* Plot the data before and after replacing outliers\n",
    "* Experiment with different value of `deg`, e.g., `1`, `3`, `11`, and `23`\n",
    "</div>"
   ]
  },
  {
   "cell_type": "markdown",
   "metadata": {},
   "source": [
    "<div class=\"alert alert-heading alert-danger\" style=\"background-color: white; border: 2px solid; border-radius: 5px; color: #000; border-color:#AAA; padding: 10px\">\n",
    "    <b>💎 Tip</b>\n",
    "\n",
    "* You can index a numpy array with another numpy array of boolean values\n",
    "* This will return only the values at which the index is `True`\n",
    "* Try using this method to get only the clean data (that without outliers)\n",
    "</div>\n"
   ]
  },
  {
   "cell_type": "code",
   "execution_count": 14,
   "metadata": {},
   "outputs": [],
   "source": [
    "def zscore_interp(x: ArrayLike, y: ArrayLike, threshold: int=3, deg: int=1) -> ArrayLike:\n",
    "    \"\"\"\n",
    "    Interpolates outliers using the z-score method and returns the interpolated data using a `deg`-degree approximation.\n",
    "\n",
    "    Args:\n",
    "        x (ArrayLike): x-variate of data to be interpolated\n",
    "        y (ArrayLike): y-variate of data to be interpolated\n",
    "        threshold (int): threshold for the z-score method\n",
    "        deg (int): degree of the polynomial approximation\n",
    "\n",
    "    Returns:\n",
    "        (ArrayLike): interpolated data\n",
    "    \"\"\"\n",
    "    # add your code here"
   ]
  },
  {
   "cell_type": "code",
   "execution_count": null,
   "metadata": {},
   "outputs": [],
   "source": []
  }
 ],
 "metadata": {
  "colab": {
   "collapsed_sections": [],
   "name": "LAB2.ipynb",
   "provenance": [
    {
     "file_id": "1Oi_asqq_7A12-Rbgi3Mf1NH4TMradDpC",
     "timestamp": 1603822785138
    }
   ]
  },
  "kernelspec": {
   "display_name": "Python 3 (ipykernel)",
   "language": "python",
   "name": "python3"
  },
  "language_info": {
   "codemirror_mode": {
    "name": "ipython",
    "version": 3
   },
   "file_extension": ".py",
   "mimetype": "text/x-python",
   "name": "python",
   "nbconvert_exporter": "python",
   "pygments_lexer": "ipython3",
   "version": "3.11.6"
  }
 },
 "nbformat": 4,
 "nbformat_minor": 4
}
